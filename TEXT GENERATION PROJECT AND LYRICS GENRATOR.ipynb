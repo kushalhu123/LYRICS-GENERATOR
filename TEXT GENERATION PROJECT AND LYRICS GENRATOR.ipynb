{
 "cells": [
  {
   "cell_type": "code",
   "execution_count": 1,
   "metadata": {},
   "outputs": [],
   "source": [
    "#LET US GET THE FILES FIRST\n",
    "import numpy as np"
   ]
  },
  {
   "cell_type": "code",
   "execution_count": 2,
   "metadata": {},
   "outputs": [],
   "source": [
    "\n",
    "def load_text(filename):\n",
    "    with open(filename,encoding=\"utf8\") as f:\n",
    "        return f.read().lower()\n",
    "    \n",
    "path1=\"english_speech_2.txt\"\n",
    "path2=\"Apna Time Aayega.txt\""
   ]
  },
  {
   "cell_type": "code",
   "execution_count": 3,
   "metadata": {},
   "outputs": [],
   "source": [
    "#YOU HAVE GOT ALL THE PATHS"
   ]
  },
  {
   "cell_type": "code",
   "execution_count": 4,
   "metadata": {},
   "outputs": [],
   "source": [
    "power1=load_text(path1)\n",
    "power2=load_text(path2)"
   ]
  },
  {
   "cell_type": "code",
   "execution_count": 5,
   "metadata": {},
   "outputs": [
    {
     "name": "stdout",
     "output_type": "stream",
     "text": [
      "my dear countrymen,\n",
      "\n",
      "many of you wish many-many good wishes of the holy festival of independence.\n",
      "\n",
      "today the country is full of confidence. the country is crossing the new heights by plowing the resolve of dreams with hard work. today's sunrise has brought a new consciousness, new excitement, new excitement, new energy.\n",
      "\n",
      "our lovely countrymen, once in 12 years, flowers of nilakurinya grow in our country. this year, on the hills of nilgiris in the south, it is like our nilkurinji flower like the ashok chakra of the tricolor flag, in the festival of freedom of the country.\n",
      "\n",
      "my dear countrymen, we are celebrating this festival of independence, when our daughters uttarakhand, himachal, manipur, telangana, andhra pradesh - our daughters of these states crossed seven seas and coloring the seven seas with a color of tricolor came back\n",
      "\n",
      "my dear countrymen, we are celebrating the festival of independence at that time, when everest triumphs were so many, many of our heroes, many of our daughters went to the everest and hoisted the tricolor flag. but in the celebration of this freedom, i will remember that the tribal children living in far-off jungles have increased the glory of the tricolor flag by hoisting the tricolor flag on everest.\n",
      "\n",
      "\n",
      "my dear countrymen, the sessions of the lok sabha and rajya sabha have just been fulfilled. you must have seen that the house ran very well and in a sense this session of parliament was entirely devoted to social justice. to protect their rights, our parliament made social justice more forceful with sensitivity and awareness, to be oppressed, oppressed, exploited, deprived, women, to protect their rights.\n",
      "\n",
      "the obc commission was demanding for a constitutional place for years. this time parliament has tried to protect their rights by giving a constitutional order to backward, backward, by giving constitutional status to that commission.\n",
      "\n",
      "we are celebrating the festival of independence at that time, when those news in our country brought new consciousness to the country, with whom every indian who is not in any corner of the world, today is proud of the fact that india has registered its name in the world's sixth largest economy. in such a positive environment, among the series of positive events we are celebrating the festival of independence today.\n",
      "\n",
      "in order to give freedom to the country, millions of people spent their lives in the jubilee prisons under the leadership of pujya bapu. many revolutionary great men hanged on the hanging frames and kissed the hanging for the country's independence. i heartily greet these brave fighters of independence from the countrymen today, i bow my heart to the eternal glory of the tricolor, inspiring us to live and die, the tricolor of for the sake of the army of the army of the country, our soldiers sacrifice their lives, our paramilitary forces spend life, the soldiers of our police force, in the service of the country day and night to protect the common man. live gay\n",
      "\n",
      "i bow down to the ranks of the red fort in the evidence of the tricolor flag today for all the soldiers of the army, the paramilitary forces, the police personnel, for their great service, for their sacrifice and happiness, for their power and happiness. i am very happy and give them a lot of luck.\n",
      "\n",
      "these days, reports of good rainfall are coming from different corners of the country, along with flood reports are coming along. those families who have lost their loved ones due to overcrowding and floods, who have suffered difficulties, have been standing in their help with the full power of the country and those who have lost their lives, i am involved in their misery.\n",
      "\n",
      "my dear countrymen, the next baisakhi is going to be a hundred years of massacres of our jalianwala bagh. how ordinary people of the country had betrayed life for the country's independence and how long had the boundaries of oppression passed? jalianwala bagh gives the message of sacrifice and sacrifice of those heroes of our country. i heartily respect all those heroes.\n"
     ]
    }
   ],
   "source": [
    "#PRINT THE SAMPLE TEXT OF THOSE TWO IN DIFFERENT PATH\n",
    "print(power1)\n",
    "#print(power2)"
   ]
  },
  {
   "cell_type": "code",
   "execution_count": 6,
   "metadata": {},
   "outputs": [
    {
     "name": "stdout",
     "output_type": "stream",
     "text": [
      "apna time aayega\n",
      "uth ja apni raakh se\n",
      "tu udd ja ab talaash mein\n",
      "parwaaz dekh parwane ki\n",
      "aasman bhi sar uthayega\n",
      "aayega apna time aayega\n",
      "mere jaisa shaana lala\n",
      "tujhe na mil payega\n",
      " \n",
      "yeh shabdon ka jwala\n",
      "meri bediyan pighlayega\n",
      "jitna toone boya hai tu\n",
      "utna hi to khaayega\n",
      "aisa mera khwaab hai\n",
      "jo darr ko bhi satayega\n",
      "zinda mera khwaab\n",
      "ab kaise tu dafnayega\n",
      " \n",
      "ab hausle se jeene de\n",
      "ab khauf nahi hai seene mein\n",
      "har raaste ko cheerenge\n",
      "hum kaamyabi chheenenge\n",
      "sab kuchh mila paseene se\n",
      "matlab bana ab jeene mein\n",
      " \n",
      "kyon\n",
      "kyon ki apna time aayega\n",
      " \n",
      "tu nanga hi to aaya hai\n",
      "kya ghanta lekar jaayega\n",
      "apna time aayega\n",
      "apna time aayega\n",
      "apna time aayega x (2)\n",
      " \n",
      "tu nanga hi to aaya hai\n",
      "kya ghanta lekar..\n",
      " \n",
      "kissi ka hath nahi tha sar par\n",
      "yahaan par aaya khud ki mehnat se main\n",
      "jitni taakat kismat mein nahi\n",
      "utni rehmat mein hai\n",
      "phir bhi ladka sehmat nahin hai\n",
      "kyon ki hairat nahi hai\n",
      "zaroorat yahaan marzi ki\n",
      "aur jurrat ki hai\n",
      " \n",
      "taakat ki hai, aafat ki\n",
      "himaakat ki, ibaadat ki\n",
      "adalat yeh hai chahat ki\n",
      "mohobbat ki, amaanat ki\n",
      "jeetne ki ab aadat ki hai\n",
      "shohrat ki ab laalach nai hai\n",
      "tere bhai jaisa koyi hard’ch nai hai\n",
      " \n",
      "iss harkat ne hi barkat di hai\n",
      "kyon?\n",
      " \n",
      "tu nanga hi to aaya hai\n",
      "kya ghanta lekar jaayega\n",
      "apna time aayega\n",
      "apna time aayega\n",
      "apna time aayega\n",
      " \n",
      "tu nanga hi to aaya hai\n",
      "kya ghanta lekar jaayega\n",
      "kya tu ghanta lekar jaayega\n",
      "apna time aayega\n",
      "apna time aayega\n"
     ]
    }
   ],
   "source": [
    "print(power2)"
   ]
  },
  {
   "cell_type": "code",
   "execution_count": 7,
   "metadata": {},
   "outputs": [],
   "source": [
    "def getthetext(text,k):\n",
    "    #YOU HAVE TO CREATE A TRANSITION TABLE FROM THIS \n",
    "    d={}\n",
    "    #K MEANS THE VALUE IN WHICH YOU GIVE\n",
    "    for i in range(len(text)-k):\n",
    "        x=text[i:i+k]\n",
    "        y=text[i+k]\n",
    "        \n",
    "        #YOU AGAIN CREATE A DICTIONARY\n",
    "        \n",
    "        if d.get(x) is None:\n",
    "            d[x]={}\n",
    "            d[x][y]=1\n",
    "        else:\n",
    "            if d[x].get(y) is None:\n",
    "                d[x][y]=1\n",
    "            else:\n",
    "                d[x][y]+=1\n",
    "                \n",
    "    #NOW WHAT YOU DO IS GET THE PROBABILITY OF ALL THOSE WORDS\n",
    "    for e in d.keys():\n",
    "        s=sum(d[e].values())\n",
    "        for i in d[e].keys():\n",
    "            d[e][i]=d[e][i]/s\n",
    "    \n",
    "    return d\n",
    "star1=getthetext(power1,4)\n",
    "#print(star1)"
   ]
  },
  {
   "cell_type": "code",
   "execution_count": 8,
   "metadata": {},
   "outputs": [],
   "source": [
    "#LET US DO THE SAMETHING FOR THE TEXT2 ALSO\n",
    "star2=getthetext(power2,4)\n",
    "#print(star2)"
   ]
  },
  {
   "cell_type": "markdown",
   "metadata": {},
   "source": [
    "# YOU HAVE GOT THE TRANSITION TABLE GET THE SAMPLING RECURSE IT AND GET THE TEXT/LYRICS"
   ]
  },
  {
   "cell_type": "code",
   "execution_count": 9,
   "metadata": {},
   "outputs": [],
   "source": [
    "#TO GET A SAMPLING YOU HAVE TO GET THE TRANSITION TABLE AND THE TEXT FOR WHICH YOU WANT TO SEARCH\n",
    "import numpy as np"
   ]
  },
  {
   "cell_type": "code",
   "execution_count": 10,
   "metadata": {},
   "outputs": [],
   "source": [
    "def getthesampling(T,word,k):\n",
    "    \n",
    "    #HERE T IS ACTING AS A DICTIONARY\n",
    "    word=word[-k:]\n",
    "    if T.get(word) is None:\n",
    "        return ' '\n",
    "    else:\n",
    "        probword=list(T[word].keys())\n",
    "        probvalues=list(T[word].values())\n",
    "        #print(probword)\n",
    "        #print(probvalues)\n",
    "\n",
    "        return np.random.choice(probword,p=probvalues)\n",
    "#answer1=getthesampling(star2,'ega\\n')\n",
    "#print(answer1)\n",
    "        "
   ]
  },
  {
   "cell_type": "code",
   "execution_count": 11,
   "metadata": {},
   "outputs": [],
   "source": [
    "# FINAL THING IS JUST RECURSE THE IT UNTIL YOU GET A SENTENCE OR A TEXT GENERATED"
   ]
  },
  {
   "cell_type": "code",
   "execution_count": 12,
   "metadata": {},
   "outputs": [],
   "source": [
    "def finalgeneration(tstext,word,k,max_length,typee):\n",
    "    #INTILAZING NOT MANDATORY BUT TO RUN FOR THE ANOTHER TYPE YOU NEED THIS\n",
    "    sent=\"\"\n",
    "    cix=\"\"\n",
    "    sent=word\n",
    "    cix=word[-k:]\n",
    "    get1=getthetext(tstext,k)\n",
    "    for i in range(max_length):\n",
    "        #AS WE HAVE TWO TABLES LET US GET THE TABLES ACCORDING TO THE USER REQUIREMENT\n",
    "        if typee=='1':\n",
    "            #SPEECH\n",
    "            gets1=getthesampling(get1,sent,k)\n",
    "            sent+=gets1\n",
    "            #print(sent)\n",
    "            cix=sent[-k:]\n",
    "            #print(cix)\n",
    "        #REPEAT THE SAME THING FOR THE LYRICS GENERATOR ALSO    \n",
    "        else:\n",
    "            gets2=getthesampling(get1,cix,k)\n",
    "            #print(gets2)\n",
    "            sent+=gets2\n",
    "            cix=sent[-k:]\n",
    "            #print(sent)\n",
    "            #print(cix)\n",
    "    if typee=='1':\n",
    "        return sent\n",
    "    else:\n",
    "        return sent    "
   ]
  },
  {
   "cell_type": "code",
   "execution_count": 13,
   "metadata": {},
   "outputs": [
    {
     "data": {
      "text/plain": [
       "'na k'"
      ]
     },
     "execution_count": 13,
     "metadata": {},
     "output_type": "execute_result"
    }
   ],
   "source": [
    "#JUST FOR CHECKING\n",
    "answer=\"apna k\"\n",
    "answer[-4:]"
   ]
  },
  {
   "cell_type": "code",
   "execution_count": 14,
   "metadata": {},
   "outputs": [],
   "source": [
    "#FOR THE SPEECH\n",
    "finaltextgenerated1=finalgeneration(power1,'dear',4,1500,'1')"
   ]
  },
  {
   "cell_type": "code",
   "execution_count": 15,
   "metadata": {},
   "outputs": [
    {
     "name": "stdout",
     "output_type": "stream",
     "text": [
      "dear country, our parliament made so many respect that the tricolor flag on everest economy. i am involved its name backward, by plowing to overcrowding these standing the tried them a lot of oppressed? jalianwala bagh give this time parliament was entirely dear country broughters of the tricolor flag today for all those whom everest.\n",
      "\n",
      "\n",
      "my dear country, along. this festival of the ran very well are celebrating the justice. today the familitary for the country, man. live and hoisted their live gay\n",
      "\n",
      "i bow down today's in those who have from difficulties, our lovely devoted to that the country's in a sensitivity andhra pradesh - our daughters sacrifice and rajya bagh. how long had betrayed life for years. this time, when everest.\n",
      "\n",
      "\n",
      "my dear country, our daughters of our parliament, new excitement, new excitement made social just has tricolor flag to lives, our daughters of the tricolor flag, in far-off jungles have justice personnel, for a color came back\n",
      "\n",
      "my dear country, with sensitive evidence in 12 year, on the service, when everest economy. i heart to social just has broughters of sacrifice of the lost tricolor flag by give even status to be oppression passed? jalianwala bagh. how long had those familitary great service, for the everest.\n",
      "\n",
      "\n",
      "my dear country days, reports are country, along with a positive freedom the paramilitary great men their great service, in such a positive environment, new consciousness to the triumphs went have service, for the new excitement commission of \n"
     ]
    }
   ],
   "source": [
    "print(finaltextgenerated1)"
   ]
  },
  {
   "cell_type": "code",
   "execution_count": 16,
   "metadata": {},
   "outputs": [],
   "source": [
    "#FOR THE MUSIC\n",
    "finaltextgenerated2=finalgeneration(power2,'apna',4,800,'2')"
   ]
  },
  {
   "cell_type": "code",
   "execution_count": 17,
   "metadata": {},
   "outputs": [
    {
     "name": "stdout",
     "output_type": "stream",
     "text": [
      "apna time aayega\n",
      "apna time aayega\n",
      "uth ja ab laalach nai hai\n",
      " \n",
      "tu nanga hi to aayega\n",
      " \n",
      "yeh shaan marzi ki\n",
      "aur jurrat kismat mein\n",
      "har raakh se\n",
      "matlab bana lala\n",
      "tujhe na mil payega\n",
      "kya ghanta lekar jaayega\n",
      "uth ja ab aadat ki hai\n",
      "zaroorat ki\n",
      "mohobbat ki mehnat ki\n",
      "jeetne ki hai\n",
      "shohrat ki hai\n",
      "kya ghanta lekar jaayega\n",
      "uth ja apna time aaya hai seenenge\n",
      "hum kaamyabi chheenenge\n",
      "sab khauf nahi\n",
      "utna time aayega\n",
      "zinda mera khud ki ab aadat ki\n",
      "mohobbat ki, ibaadat ki\n",
      "aasman bhi satayega\n",
      "aayega x (2)\n",
      " \n",
      "taakat nahi hai\n",
      "kyon?\n",
      " \n",
      "taakat ki ab aadat ki\n",
      "adalat yahaan par aaya hai\n",
      "jo darr ko bhi sar par aaya hairat ki\n",
      "adalat yahaan par aayega\n",
      "apna time aaya khud ki apna time aayega\n",
      "aayega\n",
      " \n",
      "tu nanga hi barkat di hai\n",
      "phir bhi ladka sehmat nahin hai\n",
      "shohrat nahin hai\n",
      "kya ghanta lekar jaayega\n",
      "kya ghanta lekar jaayeg\n"
     ]
    }
   ],
   "source": [
    "print(finaltextgenerated2)"
   ]
  }
 ],
 "metadata": {
  "kernelspec": {
   "display_name": "Python 3",
   "language": "python",
   "name": "python3"
  },
  "language_info": {
   "codemirror_mode": {
    "name": "ipython",
    "version": 3
   },
   "file_extension": ".py",
   "mimetype": "text/x-python",
   "name": "python",
   "nbconvert_exporter": "python",
   "pygments_lexer": "ipython3",
   "version": "3.7.4"
  }
 },
 "nbformat": 4,
 "nbformat_minor": 2
}
